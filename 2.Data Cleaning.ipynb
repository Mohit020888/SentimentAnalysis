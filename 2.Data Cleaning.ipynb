{
 "cells": [
  {
   "cell_type": "markdown",
   "id": "ba74562a",
   "metadata": {},
   "source": [
    "# Data Cleaning"
   ]
  },
  {
   "cell_type": "markdown",
   "id": "9a1a5040",
   "metadata": {
    "id": "9a1a5040"
   },
   "source": [
    "Importing the Library"
   ]
  },
  {
   "cell_type": "code",
   "execution_count": null,
   "id": "d77694c1",
   "metadata": {
    "id": "d77694c1"
   },
   "outputs": [],
   "source": [
    "import pandas as pd\n",
    "import numpy as np\n",
    "pd.set_option('display.max_rows', None)\n",
    "pd.set_option('display.max_columns', None)\n",
    "pd.set_option('display.width', None)"
   ]
  },
  {
   "cell_type": "code",
   "execution_count": null,
   "id": "0c6aa26c",
   "metadata": {
    "colab": {
     "base_uri": "https://localhost:8080/",
     "height": 206
    },
    "executionInfo": {
     "elapsed": 5480,
     "status": "ok",
     "timestamp": 1667194754432,
     "user": {
      "displayName": "Otto Kats",
      "userId": "13001646518167533104"
     },
     "user_tz": 420
    },
    "id": "0c6aa26c",
    "outputId": "e53a15c6-9548-4721-c2d8-e6a5549035b4"
   },
   "outputs": [
    {
     "data": {
      "text/html": [
       "\n",
       "  <div id=\"df-2eb9f0f3-c864-454f-ae2b-b46f8630f78f\">\n",
       "    <div class=\"colab-df-container\">\n",
       "      <div>\n",
       "<style scoped>\n",
       "    .dataframe tbody tr th:only-of-type {\n",
       "        vertical-align: middle;\n",
       "    }\n",
       "\n",
       "    .dataframe tbody tr th {\n",
       "        vertical-align: top;\n",
       "    }\n",
       "\n",
       "    .dataframe thead th {\n",
       "        text-align: right;\n",
       "    }\n",
       "</style>\n",
       "<table border=\"1\" class=\"dataframe\">\n",
       "  <thead>\n",
       "    <tr style=\"text-align: right;\">\n",
       "      <th></th>\n",
       "      <th>created_at</th>\n",
       "      <th>user_name</th>\n",
       "      <th>location</th>\n",
       "      <th>fix_location</th>\n",
       "      <th>tweets</th>\n",
       "    </tr>\n",
       "  </thead>\n",
       "  <tbody>\n",
       "    <tr>\n",
       "      <th>0</th>\n",
       "      <td>2022-10-07 20:03:04</td>\n",
       "      <td>SENDYOURNFT</td>\n",
       "      <td>Los Angeles, CA</td>\n",
       "      <td>los angeles</td>\n",
       "      <td>i wrote an eli5 of every coin on coinbase http...</td>\n",
       "    </tr>\n",
       "    <tr>\n",
       "      <th>1</th>\n",
       "      <td>2022-10-07 19:27:05</td>\n",
       "      <td>SENDYOURNFT</td>\n",
       "      <td>Los Angeles, CA</td>\n",
       "      <td>los angeles</td>\n",
       "      <td>ftx and visa to launch crypto debit card world...</td>\n",
       "    </tr>\n",
       "    <tr>\n",
       "      <th>2</th>\n",
       "      <td>2022-10-07 19:13:08</td>\n",
       "      <td>SENDYOURNFT</td>\n",
       "      <td>Los Angeles, CA</td>\n",
       "      <td>los angeles</td>\n",
       "      <td>sleuth discovers satoshi’s long-lost bitcoin v...</td>\n",
       "    </tr>\n",
       "    <tr>\n",
       "      <th>3</th>\n",
       "      <td>2022-10-07 18:55:08</td>\n",
       "      <td>SENDYOURNFT</td>\n",
       "      <td>Los Angeles, CA</td>\n",
       "      <td>los angeles</td>\n",
       "      <td>victims of crypto and nft fraud can take theft...</td>\n",
       "    </tr>\n",
       "    <tr>\n",
       "      <th>4</th>\n",
       "      <td>2022-10-07 18:52:14</td>\n",
       "      <td>SENDYOURNFT</td>\n",
       "      <td>Los Angeles, CA</td>\n",
       "      <td>los angeles</td>\n",
       "      <td>terra luna executive arrested by south korean ...</td>\n",
       "    </tr>\n",
       "  </tbody>\n",
       "</table>\n",
       "</div>\n",
       "      <button class=\"colab-df-convert\" onclick=\"convertToInteractive('df-2eb9f0f3-c864-454f-ae2b-b46f8630f78f')\"\n",
       "              title=\"Convert this dataframe to an interactive table.\"\n",
       "              style=\"display:none;\">\n",
       "        \n",
       "  <svg xmlns=\"http://www.w3.org/2000/svg\" height=\"24px\"viewBox=\"0 0 24 24\"\n",
       "       width=\"24px\">\n",
       "    <path d=\"M0 0h24v24H0V0z\" fill=\"none\"/>\n",
       "    <path d=\"M18.56 5.44l.94 2.06.94-2.06 2.06-.94-2.06-.94-.94-2.06-.94 2.06-2.06.94zm-11 1L8.5 8.5l.94-2.06 2.06-.94-2.06-.94L8.5 2.5l-.94 2.06-2.06.94zm10 10l.94 2.06.94-2.06 2.06-.94-2.06-.94-.94-2.06-.94 2.06-2.06.94z\"/><path d=\"M17.41 7.96l-1.37-1.37c-.4-.4-.92-.59-1.43-.59-.52 0-1.04.2-1.43.59L10.3 9.45l-7.72 7.72c-.78.78-.78 2.05 0 2.83L4 21.41c.39.39.9.59 1.41.59.51 0 1.02-.2 1.41-.59l7.78-7.78 2.81-2.81c.8-.78.8-2.07 0-2.86zM5.41 20L4 18.59l7.72-7.72 1.47 1.35L5.41 20z\"/>\n",
       "  </svg>\n",
       "      </button>\n",
       "      \n",
       "  <style>\n",
       "    .colab-df-container {\n",
       "      display:flex;\n",
       "      flex-wrap:wrap;\n",
       "      gap: 12px;\n",
       "    }\n",
       "\n",
       "    .colab-df-convert {\n",
       "      background-color: #E8F0FE;\n",
       "      border: none;\n",
       "      border-radius: 50%;\n",
       "      cursor: pointer;\n",
       "      display: none;\n",
       "      fill: #1967D2;\n",
       "      height: 32px;\n",
       "      padding: 0 0 0 0;\n",
       "      width: 32px;\n",
       "    }\n",
       "\n",
       "    .colab-df-convert:hover {\n",
       "      background-color: #E2EBFA;\n",
       "      box-shadow: 0px 1px 2px rgba(60, 64, 67, 0.3), 0px 1px 3px 1px rgba(60, 64, 67, 0.15);\n",
       "      fill: #174EA6;\n",
       "    }\n",
       "\n",
       "    [theme=dark] .colab-df-convert {\n",
       "      background-color: #3B4455;\n",
       "      fill: #D2E3FC;\n",
       "    }\n",
       "\n",
       "    [theme=dark] .colab-df-convert:hover {\n",
       "      background-color: #434B5C;\n",
       "      box-shadow: 0px 1px 3px 1px rgba(0, 0, 0, 0.15);\n",
       "      filter: drop-shadow(0px 1px 2px rgba(0, 0, 0, 0.3));\n",
       "      fill: #FFFFFF;\n",
       "    }\n",
       "  </style>\n",
       "\n",
       "      <script>\n",
       "        const buttonEl =\n",
       "          document.querySelector('#df-2eb9f0f3-c864-454f-ae2b-b46f8630f78f button.colab-df-convert');\n",
       "        buttonEl.style.display =\n",
       "          google.colab.kernel.accessAllowed ? 'block' : 'none';\n",
       "\n",
       "        async function convertToInteractive(key) {\n",
       "          const element = document.querySelector('#df-2eb9f0f3-c864-454f-ae2b-b46f8630f78f');\n",
       "          const dataTable =\n",
       "            await google.colab.kernel.invokeFunction('convertToInteractive',\n",
       "                                                     [key], {});\n",
       "          if (!dataTable) return;\n",
       "\n",
       "          const docLinkHtml = 'Like what you see? Visit the ' +\n",
       "            '<a target=\"_blank\" href=https://colab.research.google.com/notebooks/data_table.ipynb>data table notebook</a>'\n",
       "            + ' to learn more about interactive tables.';\n",
       "          element.innerHTML = '';\n",
       "          dataTable['output_type'] = 'display_data';\n",
       "          await google.colab.output.renderOutput(dataTable, element);\n",
       "          const docLink = document.createElement('div');\n",
       "          docLink.innerHTML = docLinkHtml;\n",
       "          element.appendChild(docLink);\n",
       "        }\n",
       "      </script>\n",
       "    </div>\n",
       "  </div>\n",
       "  "
      ],
      "text/plain": [
       "           created_at    user_name         location fix_location  \\\n",
       "0 2022-10-07 20:03:04  SENDYOURNFT  Los Angeles, CA  los angeles   \n",
       "1 2022-10-07 19:27:05  SENDYOURNFT  Los Angeles, CA  los angeles   \n",
       "2 2022-10-07 19:13:08  SENDYOURNFT  Los Angeles, CA  los angeles   \n",
       "3 2022-10-07 18:55:08  SENDYOURNFT  Los Angeles, CA  los angeles   \n",
       "4 2022-10-07 18:52:14  SENDYOURNFT  Los Angeles, CA  los angeles   \n",
       "\n",
       "                                              tweets  \n",
       "0  i wrote an eli5 of every coin on coinbase http...  \n",
       "1  ftx and visa to launch crypto debit card world...  \n",
       "2  sleuth discovers satoshi’s long-lost bitcoin v...  \n",
       "3  victims of crypto and nft fraud can take theft...  \n",
       "4  terra luna executive arrested by south korean ...  "
      ]
     },
     "execution_count": 19,
     "metadata": {},
     "output_type": "execute_result"
    }
   ],
   "source": [
    "df = pd.read_excel(\"clean_tweets_v4_with mentions.xlsx\")\n",
    "df.head()"
   ]
  },
  {
   "cell_type": "markdown",
   "id": "d1d3aa80",
   "metadata": {
    "id": "d1d3aa80"
   },
   "source": [
    "Data Pre-Processing and Cleaning"
   ]
  },
  {
   "cell_type": "code",
   "execution_count": null,
   "id": "rSMfOwBvc41C",
   "metadata": {
    "colab": {
     "base_uri": "https://localhost:8080/"
    },
    "executionInfo": {
     "elapsed": 5896,
     "status": "ok",
     "timestamp": 1667193096017,
     "user": {
      "displayName": "Otto Kats",
      "userId": "13001646518167533104"
     },
     "user_tz": 420
    },
    "id": "rSMfOwBvc41C",
    "outputId": "3d53c828-0fe5-4d71-aa83-0d7f19521eae"
   },
   "outputs": [
    {
     "name": "stdout",
     "output_type": "stream",
     "text": [
      "Looking in indexes: https://pypi.org/simple, https://us-python.pkg.dev/colab-wheels/public/simple/\n",
      "Collecting langdetect\n",
      "  Downloading langdetect-1.0.9.tar.gz (981 kB)\n",
      "\u001b[K     |████████████████████████████████| 981 kB 31.8 MB/s \n",
      "\u001b[?25hRequirement already satisfied: six in /usr/local/lib/python3.7/dist-packages (from langdetect) (1.15.0)\n",
      "Building wheels for collected packages: langdetect\n",
      "  Building wheel for langdetect (setup.py) ... \u001b[?25l\u001b[?25hdone\n",
      "  Created wheel for langdetect: filename=langdetect-1.0.9-py3-none-any.whl size=993242 sha256=0342e0a26e9f0656045257ad248095f31b35a2afd480b3072df239ff271eb782\n",
      "  Stored in directory: /root/.cache/pip/wheels/c5/96/8a/f90c59ed25d75e50a8c10a1b1c2d4c402e4dacfa87f3aff36a\n",
      "Successfully built langdetect\n",
      "Installing collected packages: langdetect\n",
      "Successfully installed langdetect-1.0.9\n"
     ]
    }
   ],
   "source": [
    "!pip install langdetect"
   ]
  },
  {
   "cell_type": "code",
   "execution_count": null,
   "id": "a7dee4bf",
   "metadata": {
    "id": "a7dee4bf"
   },
   "outputs": [],
   "source": [
    "import re #For the regular expression\n",
    "import string\n",
    "from langdetect import detect\n",
    "\n",
    "tagging_regex = re.compile(r\"@\\S*\")\n",
    "url_pattern = re.compile(r'https?://\\S+|www\\.\\S+')\n",
    "signature_pattern = re.compile(r\"-\\S*\")\n",
    "irregular_pattern = re.compile(r\"\\^\\S*\")\n",
    "new_line_pattern = re.compile(r\"\\n+\\S*\")\n",
    "\n",
    "\n",
    "#Removing emoji\n",
    "def remove_emoji(inputString):\n",
    "    return inputString.encode('ascii', 'ignore').decode('ascii')\n",
    "\n",
    "#Removing URL\n",
    "def remove_url(string):\n",
    "    return url_pattern.sub(r'', string)\n",
    "\n",
    "#Removing Signature\n",
    "def remove_signature(text):\n",
    "    return signature_pattern.sub(r'', text)\n",
    "\n",
    "#Remove punctuations\n",
    "PUNCT_TO_REMOVE = string.punctuation\n",
    "def remove_punctuation(text):\n",
    "    return text.translate(str.maketrans('', '', PUNCT_TO_REMOVE))\n",
    "\n",
    "# remove tags,emoji,urls,signatures and spacing between words\n",
    "def clean_message(message):\n",
    "    message = re.sub(tagging_regex, '', message)\n",
    "    message = remove_emoji(message)\n",
    "    message = remove_url(message)\n",
    "    message = remove_signature(message)\n",
    "    message = irregular_pattern.sub(r'', message)\n",
    "    message = new_line_pattern.sub(r'.', message)\n",
    "    message = remove_punctuation(message)\n",
    "    message = message.strip()\n",
    "    message = ' '.join(message.split()) #adjusting to single space\n",
    "    message = message.lower() # making all tweets to lower case\n",
    "\n",
    "    if message and len(message) > 15:\n",
    "        if detect(message) != 'en':\n",
    "            return \"\"\n",
    "    \n",
    "    return message\n"
   ]
  },
  {
   "cell_type": "code",
   "execution_count": null,
   "id": "581dd1c8",
   "metadata": {
    "id": "581dd1c8"
   },
   "outputs": [],
   "source": [
    "df[\"tweets\"]=df[\"tweets\"].apply(str)\n",
    "df[\"cleaned_tweets\"]=df[\"tweets\"].apply(clean_message)"
   ]
  },
  {
   "cell_type": "code",
   "execution_count": null,
   "id": "42265a06",
   "metadata": {
    "id": "42265a06"
   },
   "outputs": [],
   "source": [
    "df1 = df.drop(['tweets'], axis = 1)"
   ]
  },
  {
   "cell_type": "code",
   "execution_count": null,
   "id": "6ecd9b72",
   "metadata": {
    "id": "6ecd9b72"
   },
   "outputs": [],
   "source": [
    "# replacing blank places with nan values\n",
    "df1['cleaned_tweets'].replace('', np.nan, inplace=True)"
   ]
  },
  {
   "cell_type": "code",
   "execution_count": null,
   "id": "28ca9b48",
   "metadata": {
    "id": "28ca9b48"
   },
   "outputs": [],
   "source": [
    "df2 = df1[df1['cleaned_tweets'].notna()]"
   ]
  },
  {
   "cell_type": "code",
   "execution_count": null,
   "id": "1af0560d",
   "metadata": {
    "colab": {
     "base_uri": "https://localhost:8080/"
    },
    "executionInfo": {
     "elapsed": 19,
     "status": "ok",
     "timestamp": 1667195169972,
     "user": {
      "displayName": "Otto Kats",
      "userId": "13001646518167533104"
     },
     "user_tz": 420
    },
    "id": "1af0560d",
    "outputId": "75a60bd3-6fd1-4c17-f7fc-ae308e328797"
   },
   "outputs": [
    {
     "name": "stderr",
     "output_type": "stream",
     "text": [
      "/usr/local/lib/python3.7/dist-packages/ipykernel_launcher.py:2: SettingWithCopyWarning: \n",
      "A value is trying to be set on a copy of a slice from a DataFrame.\n",
      "Try using .loc[row_indexer,col_indexer] = value instead\n",
      "\n",
      "See the caveats in the documentation: https://pandas.pydata.org/pandas-docs/stable/user_guide/indexing.html#returning-a-view-versus-a-copy\n",
      "  \n",
      "/usr/local/lib/python3.7/dist-packages/pandas/core/indexing.py:1817: SettingWithCopyWarning: \n",
      "A value is trying to be set on a copy of a slice from a DataFrame.\n",
      "Try using .loc[row_indexer,col_indexer] = value instead\n",
      "\n",
      "See the caveats in the documentation: https://pandas.pydata.org/pandas-docs/stable/user_guide/indexing.html#returning-a-view-versus-a-copy\n",
      "  self._setitem_single_column(loc, value, pi)\n"
     ]
    }
   ],
   "source": [
    "#Removing numbers in cleaned-tweets column \n",
    "df2[ df2[\"cleaned_tweets\"].str.isdigit()  ] = \"NaN\""
   ]
  },
  {
   "cell_type": "code",
   "execution_count": null,
   "id": "4dc0531b",
   "metadata": {
    "colab": {
     "base_uri": "https://localhost:8080/"
    },
    "executionInfo": {
     "elapsed": 393,
     "status": "ok",
     "timestamp": 1667195174720,
     "user": {
      "displayName": "Otto Kats",
      "userId": "13001646518167533104"
     },
     "user_tz": 420
    },
    "id": "4dc0531b",
    "outputId": "9dbbe691-b934-44f0-cb48-e56821853179"
   },
   "outputs": [
    {
     "name": "stderr",
     "output_type": "stream",
     "text": [
      "/usr/local/lib/python3.7/dist-packages/ipykernel_launcher.py:1: SettingWithCopyWarning: \n",
      "A value is trying to be set on a copy of a slice from a DataFrame.\n",
      "Try using .loc[row_indexer,col_indexer] = value instead\n",
      "\n",
      "See the caveats in the documentation: https://pandas.pydata.org/pandas-docs/stable/user_guide/indexing.html#returning-a-view-versus-a-copy\n",
      "  \"\"\"Entry point for launching an IPython kernel.\n",
      "/usr/local/lib/python3.7/dist-packages/pandas/core/frame.py:3718: SettingWithCopyWarning: \n",
      "A value is trying to be set on a copy of a slice from a DataFrame\n",
      "\n",
      "See the caveats in the documentation: https://pandas.pydata.org/pandas-docs/stable/user_guide/indexing.html#returning-a-view-versus-a-copy\n",
      "  self._where(-key, value, inplace=True)\n",
      "/usr/local/lib/python3.7/dist-packages/ipykernel_launcher.py:2: SettingWithCopyWarning: \n",
      "A value is trying to be set on a copy of a slice from a DataFrame.\n",
      "Try using .loc[row_indexer,col_indexer] = value instead\n",
      "\n",
      "See the caveats in the documentation: https://pandas.pydata.org/pandas-docs/stable/user_guide/indexing.html#returning-a-view-versus-a-copy\n",
      "  \n"
     ]
    }
   ],
   "source": [
    "df2[df2==\"NaN\"]=np.nan\n",
    "df2[df2==\"nan\"]=np.nan"
   ]
  },
  {
   "cell_type": "code",
   "execution_count": null,
   "id": "56b4b08e",
   "metadata": {
    "id": "56b4b08e"
   },
   "outputs": [],
   "source": [
    "df3 = df2[df2['cleaned_tweets'].notna()]"
   ]
  },
  {
   "cell_type": "code",
   "execution_count": null,
   "id": "71aed69b",
   "metadata": {
    "colab": {
     "base_uri": "https://localhost:8080/"
    },
    "executionInfo": {
     "elapsed": 12,
     "status": "ok",
     "timestamp": 1667195179911,
     "user": {
      "displayName": "Otto Kats",
      "userId": "13001646518167533104"
     },
     "user_tz": 420
    },
    "id": "71aed69b",
    "outputId": "dd568806-73ef-4632-e649-b713a4cb6b1b"
   },
   "outputs": [
    {
     "data": {
      "text/plain": [
       "created_at          0\n",
       "user_name           0\n",
       "location          377\n",
       "fix_location        0\n",
       "cleaned_tweets      0\n",
       "dtype: int64"
      ]
     },
     "execution_count": 30,
     "metadata": {},
     "output_type": "execute_result"
    }
   ],
   "source": [
    "df3.isna().sum()"
   ]
  },
  {
   "cell_type": "code",
   "execution_count": null,
   "id": "2b6f86c6",
   "metadata": {
    "colab": {
     "base_uri": "https://localhost:8080/",
     "output_embedded_package_id": "1s1Bp9PummF8D_03tEAaB0JoHBU5_EYYv"
    },
    "executionInfo": {
     "elapsed": 8229,
     "status": "ok",
     "timestamp": 1667195235344,
     "user": {
      "displayName": "Otto Kats",
      "userId": "13001646518167533104"
     },
     "user_tz": 420
    },
    "id": "2b6f86c6",
    "outputId": "81c54777-a985-4f4a-e0fa-d8a421b65154"
   },
   "outputs": [
    {
     "data": {
      "text/plain": [
       "Output hidden; open in https://colab.research.google.com to view."
      ]
     },
     "metadata": {},
     "output_type": "display_data"
    }
   ],
   "source": [
    "df3['cleaned_tweets'].drop_duplicates().sort_values()"
   ]
  },
  {
   "cell_type": "code",
   "execution_count": null,
   "id": "Bk_ECGfpgrEo",
   "metadata": {
    "id": "Bk_ECGfpgrEo"
   },
   "outputs": [],
   "source": [
    "#Export clean file\n",
    "df3.to_csv('cleantweets_30oct_2.csv')"
   ]
  }
 ],
 "metadata": {
  "colab": {
   "provenance": []
  },
  "gpuClass": "standard",
  "kernelspec": {
   "display_name": "Python 3",
   "language": "python",
   "name": "python3"
  },
  "language_info": {
   "codemirror_mode": {
    "name": "ipython",
    "version": 3
   },
   "file_extension": ".py",
   "mimetype": "text/x-python",
   "name": "python",
   "nbconvert_exporter": "python",
   "pygments_lexer": "ipython3",
   "version": "3.8.8"
  }
 },
 "nbformat": 4,
 "nbformat_minor": 5
}
